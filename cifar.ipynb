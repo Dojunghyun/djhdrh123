{
  "nbformat": 4,
  "nbformat_minor": 0,
  "metadata": {
    "colab": {
      "provenance": [],
      "gpuType": "T4",
      "authorship_tag": "ABX9TyNaQUsdvMLBQrT05m4PI93P",
      "include_colab_link": true
    },
    "kernelspec": {
      "name": "python3",
      "display_name": "Python 3"
    },
    "language_info": {
      "name": "python"
    },
    "accelerator": "GPU"
  },
  "cells": [
    {
      "cell_type": "markdown",
      "metadata": {
        "id": "view-in-github",
        "colab_type": "text"
      },
      "source": [
        "<a href=\"https://colab.research.google.com/github/Dojunghyun/djhdrh123/blob/main/cifar.ipynb\" target=\"_parent\"><img src=\"https://colab.research.google.com/assets/colab-badge.svg\" alt=\"Open In Colab\"/></a>"
      ]
    },
    {
      "cell_type": "code",
      "execution_count": null,
      "metadata": {
        "id": "fV1IDZgJigSQ"
      },
      "outputs": [],
      "source": [
        "import tensorflow as tf\n",
        "import matplotlib.pyplot as plt\n",
        "import time\n",
        "import os\n",
        "from tensorflow.keras.callbacks import TensorBoard"
      ]
    },
    {
      "cell_type": "code",
      "source": [
        "path= \"Cifar-tensorboard\"\n",
        "tensorboard = TensorBoard(log_dir = 'logs/{}'.format(path),histogram_freq=1,profile_batch = 100000000)\n",
        "\n",
        "cifar = tf.keras.datasets.cifar10\n",
        "(x_train,y_train),(x_test,y_test)= cifar.load_data()\n",
        "\n",
        "x_train = x_train.astype('float32')\n",
        "x_test = x_test.astype('float32')\n",
        "print(\"vdvdfvd\")"
      ],
      "metadata": {
        "colab": {
          "base_uri": "https://localhost:8080/"
        },
        "id": "R5PDK_MukwA8",
        "outputId": "7972ff8b-1d28-463a-82b5-c2c386bca745"
      },
      "execution_count": null,
      "outputs": [
        {
          "output_type": "stream",
          "name": "stdout",
          "text": [
            "Downloading data from https://www.cs.toronto.edu/~kriz/cifar-10-python.tar.gz\n",
            "170498071/170498071 [==============================] - 2s 0us/step\n",
            "vdvdfvd\n"
          ]
        }
      ]
    },
    {
      "cell_type": "code",
      "source": [
        "import numpy as np\n",
        "mean= np.mean(x_train,axis=(0,1,2,3))\n",
        "std= np.std(x_train,axis=(0,1,2,3))\n",
        "x_train=(x_train-mean)/(std + 1e-7)\n",
        "x_test=(x_test-mean)/(std+ 1e-7)"
      ],
      "metadata": {
        "id": "So7yUp0fk90W"
      },
      "execution_count": null,
      "outputs": []
    },
    {
      "cell_type": "code",
      "source": [
        "from keras.utils import np_utils"
      ],
      "metadata": {
        "id": "T8EFBpw0mkqT"
      },
      "execution_count": null,
      "outputs": []
    },
    {
      "cell_type": "code",
      "source": [
        "nClasses =10\n",
        "y_train = np_utils.to_categorical(y_train,nClasses)\n",
        "y_test = np_utils.to_categorical(y_test,nClasses)\n",
        "print(x_train.shape)\n",
        "print(y_train.shape)"
      ],
      "metadata": {
        "colab": {
          "base_uri": "https://localhost:8080/"
        },
        "id": "rWydYbSGmnCa",
        "outputId": "31d2f46a-8822-4c34-9170-b09d497d27c4"
      },
      "execution_count": null,
      "outputs": [
        {
          "output_type": "stream",
          "name": "stdout",
          "text": [
            "(50000, 32, 32, 3)\n",
            "(50000, 10)\n"
          ]
        }
      ]
    },
    {
      "cell_type": "code",
      "source": [
        "input_shape = (32,32,3)"
      ],
      "metadata": {
        "id": "GC-qQi2Ompcn"
      },
      "execution_count": null,
      "outputs": []
    },
    {
      "cell_type": "code",
      "source": [
        "model = tf.keras.models.Sequential()\n",
        "def createModel():\n",
        "    model.add(tf.keras.layers.Conv2D(32,(3,3), padding= 'same', activation= 'relu',input_shape = input_shape))\n",
        "    model.add(tf.keras.layers.Conv2D(32,(3,3), activation= 'relu')) \n",
        "    model.add(tf.keras.layers.MaxPooling2D(pool_size=(2,2)))\n",
        "    model.add(tf.keras.layers.Dropout(0.4))\n",
        "\n",
        "    model.add(tf.keras.layers.Conv2D(64,(3,3), padding= 'same', activation= 'relu'))\n",
        "    model.add(tf.keras.layers.Conv2D(64,(3,3), activation= 'relu')) \n",
        "    model.add(tf.keras.layers.MaxPooling2D(pool_size=(2,2)))\n",
        "    model.add(tf.keras.layers.Dropout(0.4))\n",
        "\n",
        "    model.add(tf.keras.layers.Conv2D(64,(3,3), padding= 'same', activation= 'relu'))\n",
        "    model.add(tf.keras.layers.Conv2D(64,(3,3), activation= 'relu')) \n",
        "    model.add(tf.keras.layers.MaxPooling2D(pool_size=(2,2)))\n",
        "    model.add(tf.keras.layers.Dropout(0.4))\n",
        "\n",
        "    model.add(tf.keras.layers.Flatten())\n",
        "    model.add(tf.keras.layers.Dense(512,activation='relu'))\n",
        "    model.add(tf.keras.layers.Dropout(0.4))\n",
        "    model.add(tf.keras.layers.Dense(nClasses,activation='softmax'))\n",
        "    \n",
        "    return model"
      ],
      "metadata": {
        "id": "XK6oQhe7mstm"
      },
      "execution_count": null,
      "outputs": []
    },
    {
      "cell_type": "code",
      "source": [
        "tf.keras.backend.clear_session()\n",
        "model = createModel()"
      ],
      "metadata": {
        "id": "eQyKOKxNm3J0"
      },
      "execution_count": null,
      "outputs": []
    },
    {
      "cell_type": "code",
      "source": [
        "AdamOpt = tf.keras.optimizers.Adam(lr = 0.001)"
      ],
      "metadata": {
        "colab": {
          "base_uri": "https://localhost:8080/"
        },
        "id": "F-NED9wKm5Mn",
        "outputId": "16612f54-5aac-450a-a987-1b9e55f0e404"
      },
      "execution_count": null,
      "outputs": [
        {
          "output_type": "stream",
          "name": "stderr",
          "text": [
            "WARNING:absl:`lr` is deprecated in Keras optimizer, please use `learning_rate` or use the legacy optimizer, e.g.,tf.keras.optimizers.legacy.Adam.\n"
          ]
        }
      ]
    },
    {
      "cell_type": "code",
      "source": [
        "model.compile(loss='categorical_crossentropy', optimizer= AdamOpt ,metrics=['accuracy'])"
      ],
      "metadata": {
        "id": "NXQo5Si3m7E9"
      },
      "execution_count": null,
      "outputs": []
    },
    {
      "cell_type": "code",
      "source": [
        "model.summary()"
      ],
      "metadata": {
        "colab": {
          "base_uri": "https://localhost:8080/"
        },
        "id": "2ojW82RUm8lT",
        "outputId": "2caa2f16-dd6c-45b8-f34a-3979efd317ce"
      },
      "execution_count": null,
      "outputs": [
        {
          "output_type": "stream",
          "name": "stdout",
          "text": [
            "Model: \"sequential\"\n",
            "_________________________________________________________________\n",
            " Layer (type)                Output Shape              Param #   \n",
            "=================================================================\n",
            " conv2d (Conv2D)             (None, 32, 32, 32)        896       \n",
            "                                                                 \n",
            " conv2d_1 (Conv2D)           (None, 30, 30, 32)        9248      \n",
            "                                                                 \n",
            " max_pooling2d (MaxPooling2D  (None, 15, 15, 32)       0         \n",
            " )                                                               \n",
            "                                                                 \n",
            " dropout (Dropout)           (None, 15, 15, 32)        0         \n",
            "                                                                 \n",
            " conv2d_2 (Conv2D)           (None, 15, 15, 64)        18496     \n",
            "                                                                 \n",
            " conv2d_3 (Conv2D)           (None, 13, 13, 64)        36928     \n",
            "                                                                 \n",
            " max_pooling2d_1 (MaxPooling  (None, 6, 6, 64)         0         \n",
            " 2D)                                                             \n",
            "                                                                 \n",
            " dropout_1 (Dropout)         (None, 6, 6, 64)          0         \n",
            "                                                                 \n",
            " conv2d_4 (Conv2D)           (None, 6, 6, 64)          36928     \n",
            "                                                                 \n",
            " conv2d_5 (Conv2D)           (None, 4, 4, 64)          36928     \n",
            "                                                                 \n",
            " max_pooling2d_2 (MaxPooling  (None, 2, 2, 64)         0         \n",
            " 2D)                                                             \n",
            "                                                                 \n",
            " dropout_2 (Dropout)         (None, 2, 2, 64)          0         \n",
            "                                                                 \n",
            " flatten (Flatten)           (None, 256)               0         \n",
            "                                                                 \n",
            " dense (Dense)               (None, 512)               131584    \n",
            "                                                                 \n",
            " dropout_3 (Dropout)         (None, 512)               0         \n",
            "                                                                 \n",
            " dense_1 (Dense)             (None, 10)                5130      \n",
            "                                                                 \n",
            "=================================================================\n",
            "Total params: 276,138\n",
            "Trainable params: 276,138\n",
            "Non-trainable params: 0\n",
            "_________________________________________________________________\n"
          ]
        }
      ]
    },
    {
      "cell_type": "code",
      "source": [
        "class CustomCallback(tf.keras.callbacks.Callback):\n",
        "    def on_epoch_end(self,epoch,logs={}):\n",
        "        if(epoch%5==0):\n",
        "            print(\"just finished epoch\", epoch)\n",
        "            print(\"***************************\")\n",
        "            print(\"loss evaluation\", logs.get('val_loss'))\n",
        "            print(\"Accuracy reached train is \", logs.get('acc'))\n",
        "            print(\"Accuracy reached val is \", logs.get('val_acc'))\n",
        "            \n",
        "            return"
      ],
      "metadata": {
        "id": "6GRcwh2im9aM"
      },
      "execution_count": null,
      "outputs": []
    },
    {
      "cell_type": "code",
      "source": [
        "y_train"
      ],
      "metadata": {
        "colab": {
          "base_uri": "https://localhost:8080/"
        },
        "id": "VqtceTr1nD-j",
        "outputId": "5098dee2-2f10-42ad-a4a6-6f8e6e49a61e"
      },
      "execution_count": null,
      "outputs": [
        {
          "output_type": "execute_result",
          "data": {
            "text/plain": [
              "array([[0., 0., 0., ..., 0., 0., 0.],\n",
              "       [0., 0., 0., ..., 0., 0., 1.],\n",
              "       [0., 0., 0., ..., 0., 0., 1.],\n",
              "       ...,\n",
              "       [0., 0., 0., ..., 0., 0., 1.],\n",
              "       [0., 1., 0., ..., 0., 0., 0.],\n",
              "       [0., 1., 0., ..., 0., 0., 0.]], dtype=float32)"
            ]
          },
          "metadata": {},
          "execution_count": 13
        }
      ]
    },
    {
      "cell_type": "code",
      "source": [
        "batch_size = 256\n",
        "epochs = 10\n",
        "\n",
        "model.fit(x_train,y_train,batch_size = batch_size, epochs = 2,callbacks =[tensorboard])"
      ],
      "metadata": {
        "colab": {
          "base_uri": "https://localhost:8080/"
        },
        "id": "TngX1hWZnF3M",
        "outputId": "371ac5a3-11c4-450f-d0f3-82adb24a7d79"
      },
      "execution_count": null,
      "outputs": [
        {
          "output_type": "stream",
          "name": "stdout",
          "text": [
            "Epoch 1/2\n",
            "196/196 [==============================] - 18s 24ms/step - loss: 1.8612 - accuracy: 0.2987\n",
            "Epoch 2/2\n",
            "196/196 [==============================] - 4s 22ms/step - loss: 1.4530 - accuracy: 0.4619\n"
          ]
        },
        {
          "output_type": "execute_result",
          "data": {
            "text/plain": [
              "<keras.callbacks.History at 0x7f93b0188cd0>"
            ]
          },
          "metadata": {},
          "execution_count": 14
        }
      ]
    },
    {
      "cell_type": "code",
      "source": [
        "val_loss, val_accu = model.evaluate(x_test,y_test)\n",
        "print(val_loss,val_accu)"
      ],
      "metadata": {
        "colab": {
          "base_uri": "https://localhost:8080/"
        },
        "id": "BMnNRJnUnhhx",
        "outputId": "078ea851-46b0-40d8-ac18-b95c5f0cc1c0"
      },
      "execution_count": null,
      "outputs": [
        {
          "output_type": "stream",
          "name": "stdout",
          "text": [
            "313/313 [==============================] - 1s 4ms/step - loss: 1.2466 - accuracy: 0.5513\n",
            "1.24662446975708 0.5512999892234802\n"
          ]
        }
      ]
    },
    {
      "cell_type": "code",
      "source": [
        "prediction= model.predict(x_test)\n",
        "print(prediction)"
      ],
      "metadata": {
        "colab": {
          "base_uri": "https://localhost:8080/"
        },
        "id": "hqBaBrw8nkyd",
        "outputId": "5d87b551-426e-464f-b0cb-765e48e99355"
      },
      "execution_count": null,
      "outputs": [
        {
          "output_type": "stream",
          "name": "stdout",
          "text": [
            "313/313 [==============================] - 1s 3ms/step\n",
            "[[9.12829209e-03 1.18377656e-02 7.48335049e-02 ... 1.45392250e-02\n",
            "  1.81893278e-02 1.04129110e-02]\n",
            " [2.62441576e-01 3.97584707e-01 1.24732580e-03 ... 2.32578859e-05\n",
            "  3.18200499e-01 1.99925527e-02]\n",
            " [1.65113568e-01 8.97174776e-02 1.97938923e-02 ... 1.88553892e-03\n",
            "  6.58684134e-01 4.18000184e-02]\n",
            " ...\n",
            " [9.37197357e-03 7.83242169e-04 1.11275196e-01 ... 2.14387268e-01\n",
            "  3.71888350e-03 4.10406012e-03]\n",
            " [1.20200388e-01 7.07003251e-02 2.09844515e-01 ... 8.69061872e-02\n",
            "  6.83813076e-03 1.01249479e-02]\n",
            " [3.11709382e-03 7.28130224e-04 4.42300364e-02 ... 6.19285643e-01\n",
            "  8.61038425e-05 1.59546966e-03]]\n"
          ]
        }
      ]
    },
    {
      "cell_type": "code",
      "source": [
        "import numpy as np\n",
        "print(np.argmax(prediction[5]))\n",
        "plt.imshow(x_test[5],cmap='gray')"
      ],
      "metadata": {
        "colab": {
          "base_uri": "https://localhost:8080/",
          "height": 485
        },
        "id": "SX99FeyGnm_V",
        "outputId": "f6927530-42ff-4808-ef4f-b23284098208"
      },
      "execution_count": null,
      "outputs": [
        {
          "output_type": "stream",
          "name": "stderr",
          "text": [
            "WARNING:matplotlib.image:Clipping input data to the valid range for imshow with RGB data ([0..1] for floats or [0..255] for integers).\n"
          ]
        },
        {
          "output_type": "stream",
          "name": "stdout",
          "text": [
            "6\n"
          ]
        },
        {
          "output_type": "execute_result",
          "data": {
            "text/plain": [
              "<matplotlib.image.AxesImage at 0x7f9388caa500>"
            ]
          },
          "metadata": {},
          "execution_count": 17
        },
        {
          "output_type": "display_data",
          "data": {
            "text/plain": [
              "<Figure size 640x480 with 1 Axes>"
            ],
            "image/png": "[encoded data removed]"
          },
          "metadata": {}
        }
      ]
    }
  ]
}